{
 "cells": [
  {
   "cell_type": "code",
   "execution_count": null,
   "id": "343ce73c",
   "metadata": {},
   "outputs": [],
   "source": [
    "nome = 'Eleilton'\n",
    "sobrenome = 'Santos'\n",
    "\n",
    "print(nome, sobrenome)\n",
    "print(nome, sobrenome, end='...\\n')\n",
    "print(nome, sobrenome, sep='#')"
   ]
  }
 ],
 "metadata": {
  "language_info": {
   "name": "python"
  }
 },
 "nbformat": 4,
 "nbformat_minor": 5
}
