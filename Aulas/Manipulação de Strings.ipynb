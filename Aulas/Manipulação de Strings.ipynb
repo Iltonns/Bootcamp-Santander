{
 "cells": [
  {
   "cell_type": "code",
   "execution_count": null,
   "id": "145473c1",
   "metadata": {},
   "outputs": [],
   "source": [
    "nome = \"Eleilton\"\n",
    "\n",
    "print(nome.lower()) # Deixando todos em letras minusculas\n",
    "print(nome.title()) # Deixando apenas a primeira letra em maiúscula"
   ]
  },
  {
   "cell_type": "code",
   "execution_count": null,
   "id": "a2b2c068",
   "metadata": {},
   "outputs": [],
   "source": [
    "texto = '  Olá Mundo!    '\n",
    "\n",
    "print(texto.strip() + \".\")\n",
    "print(texto.lstrip() + \".\")\n",
    "print(texto.rstrip() + \".\")\n",
    "\n",
    "# .strip() remove espaços em branco do início e do fim da string\n",
    "# .lstrip() remove espaços em branco apenas do início da string\n",
    "# .rstrip() remove espaços em branco apenas do fim da string"
   ]
  },
  {
   "cell_type": "code",
   "execution_count": null,
   "id": "17a56058",
   "metadata": {},
   "outputs": [],
   "source": [
    "menu = \"Python\"\n",
    "\n",
    "print(\"###\" + menu + \"###\")\n",
    "print(menu.center(10))\n",
    "print(menu.center(10, '#'))\n",
    "print('-'.join(menu))\n",
    "\n",
    "\n",
    "# O código abaixo demonstra diferentes métodos de manipulação de strings:\n",
    "# \n",
    "# \"###\" + menu + \"###\"      -> Adiciona ### antes e depois da string 'menu'\n",
    "# menu.center(10)           -> Centraliza a string 'menu' em um espaço de 10 caracteres, preenchendo com espaços\n",
    "# menu.center(10, '#')      -> Centraliza a string 'menu' em um espaço de 10 caracteres, preenchendo com '#'\n",
    "# '-'.join(menu)            -> Insere '-' entre cada caractere da string 'menu'"
   ]
  }
 ],
 "metadata": {
  "language_info": {
   "name": "python"
  }
 },
 "nbformat": 4,
 "nbformat_minor": 5
}
