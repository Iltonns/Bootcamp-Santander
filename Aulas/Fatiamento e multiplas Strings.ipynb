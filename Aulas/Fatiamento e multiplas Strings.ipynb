{
 "cells": [
  {
   "cell_type": "code",
   "execution_count": null,
   "id": "73875b6b",
   "metadata": {},
   "outputs": [],
   "source": [
    "nome = 'Eleilton Santos Gatinho'\n",
    "\n",
    "print(nome[0])\n",
    "print(nome[:8])\n",
    "print(nome[9:])\n",
    "print(nome[0:24])\n",
    "print(nome[16:24])"
   ]
  },
  {
   "cell_type": "code",
   "execution_count": null,
   "id": "7dac1490",
   "metadata": {},
   "outputs": [],
   "source": [
    "# Strings múltiplas\n",
    "mensagem = f'''\n",
    "    Olá, Bom dia.\n",
    "    Como você está ?\n",
    "    Estou bem! Obrigada!'''\n",
    "\n"
   ]
  }
 ],
 "metadata": {
  "language_info": {
   "name": "python"
  }
 },
 "nbformat": 4,
 "nbformat_minor": 5
}
